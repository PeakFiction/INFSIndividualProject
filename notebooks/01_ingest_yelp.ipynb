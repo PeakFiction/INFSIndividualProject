{
 "cells": [
  {
   "cell_type": "code",
   "execution_count": 2,
   "id": "5fd68aa6-0fb2-49f0-b23e-a9d58c25980c",
   "metadata": {},
   "outputs": [],
   "source": [
    "#Cell 1\n",
    "from pyspark.sql import SparkSession\n",
    "\n",
    "spark = (\n",
    "    SparkSession.builder\n",
    "    .appName(\"yelp-ingest\")\n",
    "    .config(\"spark.jars\",\"/home/jovyan/jars/postgresql-42.7.4.jar\")\n",
    "    .config(\"spark.sql.files.maxPartitionBytes\",\"268435456\")\n",
    "    .config(\"spark.sql.shuffle.partitions\",\"64\")\n",
    "    .config(\"spark.driver.memory\",\"6g\")\n",
    "    .config(\"spark.executor.memory\",\"6g\")\n",
    "    .getOrCreate()\n",
    ")\n",
    "\n",
    "jdbc = {\n",
    "    \"url\": \"jdbc:postgresql://db:5432/yelp\",\n",
    "    \"user\": \"postgres\",\n",
    "    \"password\": \"postgres\",\n",
    "    \"driver\": \"org.postgresql.Driver\",\n",
    "    \"batchsize\": \"10000\",\n",
    "}\n",
    "\n",
    "spark.createDataFrame([(1,\"ok\")],[\"id\",\"msg\"])\\\n",
    "     .write.format(\"jdbc\").options(**jdbc)\\\n",
    "     .option(\"dbtable\",\"public.spark_ping\").mode(\"overwrite\").save()\n",
    "\n"
   ]
  },
  {
   "cell_type": "code",
   "execution_count": 3,
   "id": "2c861009-3138-4b6f-9514-79e140a637eb",
   "metadata": {},
   "outputs": [
    {
     "name": "stdout",
     "output_type": "stream",
     "text": [
      "business rows: 172907\n",
      "tip rows     : 533285\n"
     ]
    }
   ],
   "source": [
    "#Cell 2\n",
    "from pyspark.sql.types import *\n",
    "base = \"/data/raw\"; pq = \"/data/parquet\"\n",
    "\n",
    "business_schema = StructType([\n",
    "    StructField(\"business_id\", StringType()), StructField(\"name\", StringType()),\n",
    "    StructField(\"address\", StringType()), StructField(\"city\", StringType()),\n",
    "    StructField(\"state\", StringType()), StructField(\"postal_code\", StringType()),\n",
    "    StructField(\"latitude\", DoubleType()), StructField(\"longitude\", DoubleType()),\n",
    "    StructField(\"stars\", DoubleType()), StructField(\"review_count\", IntegerType()),\n",
    "    StructField(\"is_open\", IntegerType()),\n",
    "    StructField(\"attributes\", MapType(StringType(), StringType())),\n",
    "    StructField(\"categories\", StringType()),\n",
    "    StructField(\"hours\", MapType(StringType(), StringType())),\n",
    "])\n",
    "tip_schema = StructType([\n",
    "    StructField(\"user_id\", StringType()),\n",
    "    StructField(\"business_id\", StringType()),\n",
    "    StructField(\"text\", StringType()),\n",
    "    StructField(\"date\", StringType()),\n",
    "    StructField(\"compliment_count\", IntegerType()),\n",
    "])\n",
    "\n",
    "biz = spark.read.schema(business_schema).json(f\"{base}/yelp_academic_dataset_business.json\")\n",
    "tip = spark.read.schema(tip_schema).json(f\"{base}/yelp_academic_dataset_tip.json\")\n",
    "\n",
    "biz.coalesce(8).write.mode(\"overwrite\").parquet(f\"{pq}/business\")\n",
    "tip.coalesce(8).write.mode(\"overwrite\").parquet(f\"{pq}/tip\")\n",
    "\n",
    "print(\"business rows:\", biz.count())   # expect ~172,907\n",
    "print(\"tip rows     :\", tip.count())   # expect ~533,285\n",
    "\n"
   ]
  },
  {
   "cell_type": "code",
   "execution_count": 4,
   "id": "7f3c17ac-d4dc-4c50-be5b-d52a2c9d3656",
   "metadata": {},
   "outputs": [],
   "source": [
    "#Cell 3\n",
    "biz_pg = biz.drop(\"attributes\",\"hours\")\\\n",
    "            .select(\"business_id\",\"name\",\"city\",\"state\",\"postal_code\",\n",
    "                    \"latitude\",\"longitude\",\"stars\",\"review_count\",\"is_open\",\"categories\")\n",
    "\n",
    "(biz_pg.repartition(8)\n",
    " .write.format(\"jdbc\").options(**jdbc)\n",
    " .option(\"dbtable\",\"public.business\").mode(\"overwrite\").save())\n",
    "\n",
    "tip_small = tip.select(\"user_id\",\"business_id\",\"text\",\"date\",\"compliment_count\").limit(100_000)\n",
    "(tip_small.repartition(4)\n",
    " .write.format(\"jdbc\").options(**jdbc)\n",
    " .option(\"dbtable\",\"public.tip_small\").mode(\"overwrite\").save())\n"
   ]
  },
  {
   "cell_type": "code",
   "execution_count": 5,
   "id": "cd972bd5-96b9-4a17-a1bc-7c979a34f066",
   "metadata": {},
   "outputs": [
    {
     "name": "stdout",
     "output_type": "stream",
     "text": [
      "spark_ping 1\n",
      "business 172907\n",
      "tip_small 100000\n"
     ]
    }
   ],
   "source": [
    "# Cell 4\n",
    "# read-back proof\n",
    "for t in [\"spark_ping\",\"business\",\"tip_small\"]:\n",
    "    df = spark.read.format(\"jdbc\").options(**jdbc).option(\"dbtable\", t).load()\n",
    "    print(t, df.count())\n"
   ]
  },
  {
   "cell_type": "code",
   "execution_count": null,
   "id": "84abf863-2e11-47fd-8069-17e95f20893d",
   "metadata": {},
   "outputs": [],
   "source": []
  }
 ],
 "metadata": {
  "kernelspec": {
   "display_name": "Python 3 (ipykernel)",
   "language": "python",
   "name": "python3"
  },
  "language_info": {
   "codemirror_mode": {
    "name": "ipython",
    "version": 3
   },
   "file_extension": ".py",
   "mimetype": "text/x-python",
   "name": "python",
   "nbconvert_exporter": "python",
   "pygments_lexer": "ipython3",
   "version": "3.11.10"
  }
 },
 "nbformat": 4,
 "nbformat_minor": 5
}
